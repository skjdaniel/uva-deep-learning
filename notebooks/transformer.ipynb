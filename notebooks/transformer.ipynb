{
 "cells": [
  {
   "cell_type": "markdown",
   "metadata": {},
   "source": [
    "# Transformer"
   ]
  },
  {
   "cell_type": "markdown",
   "metadata": {},
   "source": [
    "### Imports"
   ]
  },
  {
   "cell_type": "code",
   "execution_count": 2,
   "metadata": {},
   "outputs": [
    {
     "name": "stderr",
     "output_type": "stream",
     "text": [
      "Seed set to 42\n"
     ]
    },
    {
     "data": {
      "text/plain": [
       "42"
      ]
     },
     "execution_count": 2,
     "metadata": {},
     "output_type": "execute_result"
    }
   ],
   "source": [
    "import os\n",
    "import numpy as np\n",
    "import matplotlib.pyplot as plt\n",
    "\n",
    "import torch\n",
    "import torch.nn as nn\n",
    "import torch.nn.functional as F\n",
    "import torch.optim as optim\n",
    "\n",
    "from einops import rearrange\n",
    "\n",
    "import pytorch_lightning as pl\n",
    "pl.seed_everything(42)"
   ]
  },
  {
   "cell_type": "markdown",
   "metadata": {},
   "source": [
    "### Multi-head attention"
   ]
  },
  {
   "cell_type": "code",
   "execution_count": 3,
   "metadata": {},
   "outputs": [],
   "source": [
    "class MultiHeadAttention(nn.Module):\n",
    "\n",
    "    def __init__(self, n_head, d_model, d_k, d_v):\n",
    "        super().__init__()\n",
    "        self.n_head = n_head\n",
    "        self.d_k = d_k\n",
    "\n",
    "        self.wq = nn.Linear(d_model, n_head * d_k)\n",
    "        self.wk = nn.Linear(d_model, n_head * d_k)\n",
    "        self.wv = nn.Linear(d_model, n_head * d_v)\n",
    "\n",
    "        self.linear = nn.Linear(n_head * d_v, d_model)  \n",
    "\n",
    "    def forward(self, q, k, v, mask=None):\n",
    "        q = rearrange(self.wq(q), 'b t (h k) -> b h t k', h=self.n_head)    \n",
    "        k = rearrange(self.wk(k), 'b s (h k) -> b h s k', h=self.n_head)\n",
    "        v = rearrange(self.wv(v), 'b s (h v) -> b h s v', h=self.n_head)\n",
    "        attn = torch.einsum('bhtk, bhsk -> bhts', q, k) / np.sqrt(self.d_k)\n",
    "        if mask is not None:\n",
    "            attn = attn.masked_fill(mask==0, -np.inf)\n",
    "        attn = F.softmax(attn, dim=3)\n",
    "        out = torch.einsum('bhts, bhsv -> bhtv', attn, v)\n",
    "        out = rearrange(out, 'b h t v -> b t (h v)')\n",
    "        out = self.linear(out)\n",
    "        return out, attn"
   ]
  },
  {
   "cell_type": "markdown",
   "metadata": {},
   "source": [
    "### Encoder block"
   ]
  },
  {
   "cell_type": "code",
   "execution_count": 4,
   "metadata": {},
   "outputs": [],
   "source": [
    "class EncoderBlock(nn.Module):\n",
    "\n",
    "    def __init__(self, n_head, d_model, d_k, d_v, d_ff, dropout_prob=0.0):\n",
    "        super().__init__()\n",
    "        self.attn = MultiHeadAttention(n_head, d_model, d_k, d_v)\n",
    "        self.ln1 = nn.LayerNorm(d_model)\n",
    "        self.ln2 = nn.LayerNorm(d_model)\n",
    "        self.dropout = nn.Dropout(dropout_prob)\n",
    "        self.mlp = nn.Sequential(\n",
    "            nn.Linear(d_model, d_ff),\n",
    "            nn.Dropout(dropout_prob),\n",
    "            nn.ReLU(),\n",
    "            nn.Linear(d_ff, d_model)\n",
    "        )\n",
    "\n",
    "    def forward(self, x, mask=None):\n",
    "        attn_out, _ = self.attn(x, x, x, mask)\n",
    "        x = self.ln1(x + self.dropout(attn_out))\n",
    "\n",
    "        mlp_out = self.mlp(x)\n",
    "        x = self.ln2(x + self.dropout(mlp_out))\n",
    "\n",
    "        return x\n"
   ]
  },
  {
   "cell_type": "markdown",
   "metadata": {},
   "source": [
    "### Transformer encoder"
   ]
  },
  {
   "cell_type": "code",
   "execution_count": 15,
   "metadata": {},
   "outputs": [],
   "source": [
    "class TransformerEncoder(nn.Module):\n",
    "\n",
    "    def __init__(self, n_enc_blocks, **enc_block_kwargs):\n",
    "        super().__init__()\n",
    "        self.blocks = nn.ModuleList(\n",
    "            [EncoderBlock(**enc_block_kwargs) \\\n",
    "                for _ in range(n_enc_blocks)]\n",
    "            )\n",
    "\n",
    "    def forward(self, x, mask=None):\n",
    "        for block in self.blocks:\n",
    "            x = block(x, mask)\n",
    "        return x\n",
    "\n",
    "    def get_attn_maps(self, x, mask=None):\n",
    "        attn_maps = []\n",
    "        for block in self.blocks:\n",
    "            _, attn_map = block.attn(x, x, x, mask)\n",
    "            attn_maps.append(attn_map)\n",
    "            x = block(x, mask)\n",
    "        return attn_maps"
   ]
  },
  {
   "cell_type": "markdown",
   "metadata": {},
   "source": [
    "### Positional encoding"
   ]
  },
  {
   "cell_type": "code",
   "execution_count": 14,
   "metadata": {},
   "outputs": [],
   "source": [
    "class PositionalEncoding(nn.Module):\n",
    "\n",
    "    def __init__(self, d_model, max_len=5000):\n",
    "        super().__init__()\n",
    "\n",
    "        pe = torch.zeros(max_len, d_model)\n",
    "        position = rearrange(torch.arange(0, max_len, dtype=torch.float), 'i -> i 1')\n",
    "        div_term = torch.exp(torch.arange(0, d_model, 2).float() * (-np.log(10000.0) / d_model))\n",
    "        pe[:, 0::2] = torch.sin(position * div_term)\n",
    "        pe[:, 1::2] = torch.cos(position * div_term)\n",
    "        pe = rearrange(pe, 'max_len d_model -> 1 max_len d_model')\n",
    "        self.register_buffer('pe', pe, persistent=False)\n",
    "\n",
    "    def forward(self, x):\n",
    "        return x + self.pe[:, :x.size(1)]"
   ]
  },
  {
   "cell_type": "code",
   "execution_count": null,
   "metadata": {},
   "outputs": [],
   "source": []
  }
 ],
 "metadata": {
  "kernelspec": {
   "display_name": "uva_dl1",
   "language": "python",
   "name": "python3"
  },
  "language_info": {
   "codemirror_mode": {
    "name": "ipython",
    "version": 3
   },
   "file_extension": ".py",
   "mimetype": "text/x-python",
   "name": "python",
   "nbconvert_exporter": "python",
   "pygments_lexer": "ipython3",
   "version": "3.11.9"
  }
 },
 "nbformat": 4,
 "nbformat_minor": 2
}

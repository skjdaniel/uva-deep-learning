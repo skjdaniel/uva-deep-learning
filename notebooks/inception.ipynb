{
 "cells": [
  {
   "cell_type": "markdown",
   "metadata": {},
   "source": [
    "# Inception using PyTorch Lightning"
   ]
  },
  {
   "cell_type": "markdown",
   "metadata": {},
   "source": [
    "# description"
   ]
  },
  {
   "cell_type": "markdown",
   "metadata": {},
   "source": [
    "### Imports"
   ]
  },
  {
   "cell_type": "code",
   "execution_count": 5,
   "metadata": {},
   "outputs": [
    {
     "name": "stderr",
     "output_type": "stream",
     "text": [
      "Seed set to 42\n"
     ]
    },
    {
     "data": {
      "text/plain": [
       "42"
      ]
     },
     "execution_count": 5,
     "metadata": {},
     "output_type": "execute_result"
    }
   ],
   "source": [
    "import os\n",
    "\n",
    "import torch\n",
    "import torch.nn as nn\n",
    "import torchvision\n",
    "from torch.utils.data import DataLoader\n",
    "from torchvision import transforms\n",
    "from torchvision.datasets import CIFAR10\n",
    "from IPython.display import Image\n",
    "import pytorch_lightning as pl\n",
    "from pytorch_lightning import Trainer\n",
    "from pytorch_lightning.callbacks import ModelCheckpoint\n",
    "pl.seed_everything(42)"
   ]
  },
  {
   "cell_type": "markdown",
   "metadata": {},
   "source": [
    "### Folders for datasets and saved models"
   ]
  },
  {
   "cell_type": "code",
   "execution_count": 6,
   "metadata": {},
   "outputs": [],
   "source": [
    "DATASET_PATH = '../data'\n",
    "CHECKPOINT_PATH = '../checkpoints'\n",
    "\n",
    "os.makedirs(DATASET_PATH, exist_ok=True)\n",
    "os.makedirs(CHECKPOINT_PATH, exist_ok=True)"
   ]
  },
  {
   "cell_type": "markdown",
   "metadata": {},
   "source": [
    "### Means and stdevs for normalization"
   ]
  },
  {
   "cell_type": "code",
   "execution_count": 7,
   "metadata": {},
   "outputs": [
    {
     "name": "stdout",
     "output_type": "stream",
     "text": [
      "Files already downloaded and verified\n",
      "Means [0.49139968 0.48215841 0.44653091]\n",
      "Stdevs [0.24703223 0.24348513 0.26158784]\n"
     ]
    }
   ],
   "source": [
    "train_data = CIFAR10(root=DATASET_PATH, train=True, download=True)\n",
    "DATA_MEANS = (train_data.data / 255.0).mean(axis=(0,1,2))\n",
    "DATA_STDS = (train_data.data / 255.0).std(axis=(0,1,2))\n",
    "print(\"Means\", DATA_MEANS)\n",
    "print(\"Stdevs\", DATA_STDS)"
   ]
  },
  {
   "cell_type": "markdown",
   "metadata": {},
   "source": [
    "### Datasets and dataloaders"
   ]
  },
  {
   "cell_type": "code",
   "execution_count": 8,
   "metadata": {},
   "outputs": [
    {
     "name": "stdout",
     "output_type": "stream",
     "text": [
      "Files already downloaded and verified\n",
      "Files already downloaded and verified\n",
      "Files already downloaded and verified\n"
     ]
    }
   ],
   "source": [
    "train_transform = transforms.Compose([\n",
    "    transforms.RandomHorizontalFlip(),\n",
    "    transforms.RandomResizedCrop(32, scale=(0.8,1.0), ratio=(0.9,1.1)),\n",
    "    transforms.ToTensor(),\n",
    "    transforms.Normalize(DATA_MEANS, DATA_STDS) \n",
    "])\n",
    "\n",
    "test_transform = transforms.Compose([\n",
    "    transforms.ToTensor(),\n",
    "    transforms.Normalize(DATA_MEANS, DATA_STDS) \n",
    "])\n",
    "\n",
    "train_dataset = CIFAR10(DATASET_PATH, train=True, transform=train_transform, download=True)\n",
    "val_dataset = CIFAR10(DATASET_PATH, train=True, transform=test_transform, download=True)\n",
    "\n",
    "train_ds, _ = torch.utils.data.random_split(train_dataset, [45000, 5000])\n",
    "_, val_ds = torch.utils.data.random_split(val_dataset, [45000, 5000])\n",
    "\n",
    "test_ds = CIFAR10(DATASET_PATH, train=False, transform=test_transform, download=True)\n",
    "\n",
    "train_loader = DataLoader(train_ds, batch_size=128, shuffle=True)\n",
    "val_loader = DataLoader(val_ds, batch_size=128, shuffle=False)\n",
    "test_loader = DataLoader(test_ds, batch_size=128, shuffle=False)"
   ]
  },
  {
   "cell_type": "markdown",
   "metadata": {},
   "source": [
    "### Check normalization"
   ]
  },
  {
   "cell_type": "code",
   "execution_count": 9,
   "metadata": {},
   "outputs": [
    {
     "name": "stdout",
     "output_type": "stream",
     "text": [
      "mean tensor([0.0570, 0.0447, 0.0552])\n",
      "std tensor([0.9263, 0.9464, 0.9932])\n"
     ]
    }
   ],
   "source": [
    "first_batch, _ = next(iter(train_loader))\n",
    "print(\"mean\", first_batch.mean(dim=(0, 2, 3)))\n",
    "print(\"std\", first_batch.std(dim=(0, 2, 3)))"
   ]
  },
  {
   "cell_type": "markdown",
   "metadata": {},
   "source": [
    "### Inception block"
   ]
  },
  {
   "cell_type": "code",
   "execution_count": 10,
   "metadata": {},
   "outputs": [
    {
     "data": {
      "image/png": "[encoded data removed]",
      "text/plain": [
       "<IPython.core.display.Image object>"
      ]
     },
     "execution_count": 10,
     "metadata": {},
     "output_type": "execute_result"
    }
   ],
   "source": [
    "Image('../images/inception-block.png')"
   ]
  },
  {
   "cell_type": "markdown",
   "metadata": {},
   "source": [
    "Additionally, there is a batchnorm and ReLU activation after every convolution."
   ]
  },
  {
   "cell_type": "code",
   "execution_count": 11,
   "metadata": {},
   "outputs": [],
   "source": [
    "class InceptionBlock(nn.Module):\n",
    "    \"\"\"\n",
    "    Inputs:\n",
    "        - in_channels: number of input channels\n",
    "        - reduction_dict: dictionary with keys \"3x3\" and \"5x5\"\n",
    "            specifying the number of output channels for the 1x1\n",
    "            convolutions before the 3x3 and 5x5 convolutions\n",
    "        - out_dict: dictionary with keys \"1x1\", \"3x3\", \"5x5\", and \"pool\"\n",
    "            specifying the number of output channels for the 1x1, 3x3, 5x5\n",
    "            convolutions and the pooling layer\n",
    "    \"\"\"\n",
    "    def __init__(self, in_channels, reduction_dict, out_dict):\n",
    "        super().__init__()\n",
    "\n",
    "        # 1x1 conv branch\n",
    "        self.conv1x1 = nn.Sequential(\n",
    "            nn.Conv2d(in_channels, out_dict[\"1x1\"], kernel_size=1),\n",
    "            nn.BatchNorm2d(out_dict[\"1x1\"]),\n",
    "            nn.ReLU()\n",
    "        )\n",
    "\n",
    "        # 3x3 conv branch\n",
    "        self.conv3x3 = nn.Sequential(\n",
    "            nn.Conv2d(in_channels, reduction_dict[\"3x3\"], kernel_size=1),\n",
    "            nn.BatchNorm2d(reduction_dict[\"3x3\"]),\n",
    "            nn.ReLU(),\n",
    "            nn.Conv2d(reduction_dict[\"3x3\"], out_dict[\"3x3\"], kernel_size=3, padding=1),\n",
    "            nn.BatchNorm2d(out_dict[\"3x3\"]),\n",
    "            nn.ReLU()\n",
    "        )\n",
    "\n",
    "        # 5x5 conv branch\n",
    "        self.conv5x5 = nn.Sequential(\n",
    "            nn.Conv2d(in_channels, reduction_dict[\"5x5\"], kernel_size=1),\n",
    "            nn.BatchNorm2d(reduction_dict[\"5x5\"]),\n",
    "            nn.ReLU(),\n",
    "            nn.Conv2d(reduction_dict[\"5x5\"], out_dict[\"5x5\"], kernel_size=5, padding=2),\n",
    "            nn.BatchNorm2d(out_dict[\"5x5\"]),\n",
    "            nn.ReLU()\n",
    "        )\n",
    "\n",
    "        self.max_pool = nn.Sequential(\n",
    "            nn.MaxPool2d(kernel_size=3, stride=1, padding=1),\n",
    "            nn.Conv2d(in_channels, out_dict[\"pool\"], kernel_size=1),\n",
    "            nn.BatchNorm2d(out_dict[\"pool\"]),\n",
    "            nn.ReLU()\n",
    "        )\n",
    "    \n",
    "    def forward(self, x):\n",
    "        out1x1 = self.conv1x1(x)\n",
    "        out3x3 = self.conv3x3(x)\n",
    "        out5x5 = self.conv5x5(x)\n",
    "        out_pool = self.max_pool(x)\n",
    "        return torch.cat([out1x1, out3x3, out5x5, out_pool], dim=1)"
   ]
  },
  {
   "cell_type": "markdown",
   "metadata": {},
   "source": [
    "### Simplified GoogLeNet model"
   ]
  },
  {
   "cell_type": "code",
   "execution_count": 27,
   "metadata": {},
   "outputs": [],
   "source": [
    "class SimpleGoogle(nn.Module):\n",
    "    def __init__(self):\n",
    "        super().__init__()\n",
    "        self._create_network()\n",
    "        self._initialize_weights()\n",
    "\n",
    "    def _create_network(self):\n",
    "        self.input_net = nn.Sequential(\n",
    "            nn.Conv2d(3, 64, kernel_size=3, padding=1),\n",
    "            nn.BatchNorm2d(64),\n",
    "            nn.ReLU()\n",
    "        )\n",
    "        self.inception_blocks = nn.Sequential(\n",
    "            InceptionBlock(64,\n",
    "                reduction_dict={\"3x3\": 32, \"5x5\": 16},\n",
    "                out_dict={\"1x1\": 24, \"3x3\": 48, \"5x5\": 12, \"pool\": 12}\n",
    "            ),\n",
    "            nn.MaxPool2d(3, stride=2, padding=1),  # 32x32 => 16x16\n",
    "            InceptionBlock(96,\n",
    "                reduction_dict={\"3x3\": 32, \"5x5\": 16},\n",
    "                out_dict={\"1x1\": 32, \"3x3\": 48, \"5x5\": 24, \"pool\": 24}\n",
    "            ),\n",
    "            nn.MaxPool2d(3, stride=2, padding=1),  # 16x16 => 8x8\n",
    "            InceptionBlock(128,\n",
    "                reduction_dict={\"3x3\": 48, \"5x5\": 16},\n",
    "                out_dict={\"1x1\": 32, \"3x3\": 64, \"5x5\": 16, \"pool\": 16}\n",
    "            )\n",
    "        )\n",
    "        self.output_net = nn.Sequential(\n",
    "            nn.AdaptiveAvgPool2d(1),\n",
    "            nn.Flatten(),\n",
    "            nn.Linear(128, 10)\n",
    "        )\n",
    "\n",
    "    def _initialize_weights(self):\n",
    "        for m in self.modules():\n",
    "            if isinstance(m, nn.Conv2d):\n",
    "                nn.init.kaiming_normal_(m.weight)\n",
    "            elif isinstance(m, nn.BatchNorm2d):\n",
    "                nn.init.constant_(m.weight, 1)\n",
    "                nn.init.constant_(m.bias, 0)\n",
    "\n",
    "    def forward(self, x):\n",
    "        x = self.input_net(x)\n",
    "        x = self.inception_blocks(x)\n",
    "        x = self.output_net(x)\n",
    "        return x"
   ]
  },
  {
   "cell_type": "markdown",
   "metadata": {},
   "source": [
    "### Lightning module"
   ]
  },
  {
   "cell_type": "code",
   "execution_count": 28,
   "metadata": {},
   "outputs": [],
   "source": [
    "class CIFARModule(pl.LightningModule):\n",
    "    def __init__(self):\n",
    "        super().__init__()\n",
    "        self.model = SimpleGoogle()\n",
    "        self.loss_fn = nn.CrossEntropyLoss()\n",
    "        self.optimizer = torch.optim.AdamW(self.model.parameters(), lr=1e-3)\n",
    "\n",
    "    def forward(self, imgs):\n",
    "        return self.model(imgs)\n",
    "\n",
    "    def configure_optimizers(self):\n",
    "        return self.optimizer\n",
    "\n",
    "    def training_step(self, batch, batch_idx):\n",
    "        imgs, labels = batch\n",
    "        preds = self(imgs)\n",
    "        loss = self.loss_fn(preds, labels)\n",
    "        acc = (preds.argmax(dim=1) == labels).float().mean()\n",
    "        self.log('train_acc', acc, on_step=False, on_epoch=True)\n",
    "        self.log('train_loss', loss)\n",
    "        return loss\n",
    "\n",
    "    def validation_step(self, batch, batch_idx):\n",
    "        imgs, labels = batch\n",
    "        preds = self(imgs).argmax(dim=1)\n",
    "        acc = (preds == labels).float().mean()\n",
    "        self.log('val_acc', acc)\n",
    "\n",
    "    def test_step(self, batch, batch_idx):\n",
    "        imgs, labels = batch\n",
    "        preds = self(imgs).argmax(dim=1)\n",
    "        acc = (preds == labels).float().mean()\n",
    "        self.log('test_acc', acc)"
   ]
  },
  {
   "cell_type": "markdown",
   "metadata": {},
   "source": [
    "### Function to train and evaluate model"
   ]
  },
  {
   "cell_type": "code",
   "execution_count": 29,
   "metadata": {},
   "outputs": [],
   "source": [
    "def train_model(max_epochs=10):\n",
    "\n",
    "    trainer = Trainer(\n",
    "        default_root_dir=os.path.join(CHECKPOINT_PATH, 'SimpleGoogle'),\n",
    "        accelerator='cpu',\n",
    "        max_epochs=max_epochs,\n",
    "        callbacks=[ModelCheckpoint(save_weights_only=True, monitor='val_acc', mode='max')],\n",
    "        enable_progress_bar=True,\n",
    "        limit_train_batches=0.1,\n",
    "        limit_val_batches=0.2,\n",
    "        limit_test_batches=0.3\n",
    "    )\n",
    "    trainer.logger._default_hp_metric = None\n",
    "    trainer.logger._log_graph = True\n",
    "\n",
    "    model = CIFARModule()\n",
    "    trainer.fit(model, train_loader, val_loader)\n",
    "    model = CIFARModule.load_from_checkpoint(trainer.checkpoint_callback.best_model_path)\n",
    "\n",
    "    val_result = trainer.test(model, val_loader, verbose=False)\n",
    "    test_result = trainer.test(model, test_loader, verbose=False)\n",
    "    result = {\"test\": test_result[0][\"test_acc\"], \"val\": val_result[0][\"test_acc\"]}\n",
    "\n",
    "    return model, result"
   ]
  },
  {
   "cell_type": "code",
   "execution_count": 30,
   "metadata": {},
   "outputs": [
    {
     "name": "stderr",
     "output_type": "stream",
     "text": [
      "GPU available: False, used: False\n",
      "TPU available: False, using: 0 TPU cores\n",
      "HPU available: False, using: 0 HPUs\n",
      "\n",
      "  | Name    | Type             | Params | Mode \n",
      "-----------------------------------------------------\n",
      "0 | model   | SimpleGoogle     | 110 K  | train\n",
      "1 | loss_fn | CrossEntropyLoss | 0      | train\n",
      "-----------------------------------------------------\n",
      "110 K     Trainable params\n",
      "0         Non-trainable params\n",
      "110 K     Total params\n",
      "0.442     Total estimated model params size (MB)\n",
      "85        Modules in train mode\n",
      "0         Modules in eval mode\n"
     ]
    },
    {
     "name": "stdout",
     "output_type": "stream",
     "text": [
      "Epoch 3: 100%|██████████| 35/35 [00:41<00:00,  0.84it/s, v_num=5]          "
     ]
    },
    {
     "name": "stderr",
     "output_type": "stream",
     "text": [
      "`Trainer.fit` stopped: `max_epochs=4` reached.\n"
     ]
    },
    {
     "name": "stdout",
     "output_type": "stream",
     "text": [
      "Epoch 3: 100%|██████████| 35/35 [00:41<00:00,  0.84it/s, v_num=5]\n",
      "Testing DataLoader 0: 100%|██████████| 12/12 [00:06<00:00,  1.95it/s]\n",
      "Testing DataLoader 0: 100%|██████████| 23/23 [00:11<00:00,  1.96it/s]\n"
     ]
    },
    {
     "data": {
      "text/plain": [
       "(CIFARModule(\n",
       "   (model): SimpleGoogle(\n",
       "     (input_net): Sequential(\n",
       "       (0): Conv2d(3, 64, kernel_size=(3, 3), stride=(1, 1), padding=(1, 1))\n",
       "       (1): BatchNorm2d(64, eps=1e-05, momentum=0.1, affine=True, track_running_stats=True)\n",
       "       (2): ReLU()\n",
       "     )\n",
       "     (inception_blocks): Sequential(\n",
       "       (0): InceptionBlock(\n",
       "         (conv1x1): Sequential(\n",
       "           (0): Conv2d(64, 24, kernel_size=(1, 1), stride=(1, 1))\n",
       "           (1): BatchNorm2d(24, eps=1e-05, momentum=0.1, affine=True, track_running_stats=True)\n",
       "           (2): ReLU()\n",
       "         )\n",
       "         (conv3x3): Sequential(\n",
       "           (0): Conv2d(64, 32, kernel_size=(1, 1), stride=(1, 1))\n",
       "           (1): BatchNorm2d(32, eps=1e-05, momentum=0.1, affine=True, track_running_stats=True)\n",
       "           (2): ReLU()\n",
       "           (3): Conv2d(32, 48, kernel_size=(3, 3), stride=(1, 1), padding=(1, 1))\n",
       "           (4): BatchNorm2d(48, eps=1e-05, momentum=0.1, affine=True, track_running_stats=True)\n",
       "           (5): ReLU()\n",
       "         )\n",
       "         (conv5x5): Sequential(\n",
       "           (0): Conv2d(64, 16, kernel_size=(1, 1), stride=(1, 1))\n",
       "           (1): BatchNorm2d(16, eps=1e-05, momentum=0.1, affine=True, track_running_stats=True)\n",
       "           (2): ReLU()\n",
       "           (3): Conv2d(16, 12, kernel_size=(5, 5), stride=(1, 1), padding=(2, 2))\n",
       "           (4): BatchNorm2d(12, eps=1e-05, momentum=0.1, affine=True, track_running_stats=True)\n",
       "           (5): ReLU()\n",
       "         )\n",
       "         (max_pool): Sequential(\n",
       "           (0): MaxPool2d(kernel_size=3, stride=1, padding=1, dilation=1, ceil_mode=False)\n",
       "           (1): Conv2d(64, 12, kernel_size=(1, 1), stride=(1, 1))\n",
       "           (2): BatchNorm2d(12, eps=1e-05, momentum=0.1, affine=True, track_running_stats=True)\n",
       "           (3): ReLU()\n",
       "         )\n",
       "       )\n",
       "       (1): MaxPool2d(kernel_size=3, stride=2, padding=1, dilation=1, ceil_mode=False)\n",
       "       (2): InceptionBlock(\n",
       "         (conv1x1): Sequential(\n",
       "           (0): Conv2d(96, 32, kernel_size=(1, 1), stride=(1, 1))\n",
       "           (1): BatchNorm2d(32, eps=1e-05, momentum=0.1, affine=True, track_running_stats=True)\n",
       "           (2): ReLU()\n",
       "         )\n",
       "         (conv3x3): Sequential(\n",
       "           (0): Conv2d(96, 32, kernel_size=(1, 1), stride=(1, 1))\n",
       "           (1): BatchNorm2d(32, eps=1e-05, momentum=0.1, affine=True, track_running_stats=True)\n",
       "           (2): ReLU()\n",
       "           (3): Conv2d(32, 48, kernel_size=(3, 3), stride=(1, 1), padding=(1, 1))\n",
       "           (4): BatchNorm2d(48, eps=1e-05, momentum=0.1, affine=True, track_running_stats=True)\n",
       "           (5): ReLU()\n",
       "         )\n",
       "         (conv5x5): Sequential(\n",
       "           (0): Conv2d(96, 16, kernel_size=(1, 1), stride=(1, 1))\n",
       "           (1): BatchNorm2d(16, eps=1e-05, momentum=0.1, affine=True, track_running_stats=True)\n",
       "           (2): ReLU()\n",
       "           (3): Conv2d(16, 24, kernel_size=(5, 5), stride=(1, 1), padding=(2, 2))\n",
       "           (4): BatchNorm2d(24, eps=1e-05, momentum=0.1, affine=True, track_running_stats=True)\n",
       "           (5): ReLU()\n",
       "         )\n",
       "         (max_pool): Sequential(\n",
       "           (0): MaxPool2d(kernel_size=3, stride=1, padding=1, dilation=1, ceil_mode=False)\n",
       "           (1): Conv2d(96, 24, kernel_size=(1, 1), stride=(1, 1))\n",
       "           (2): BatchNorm2d(24, eps=1e-05, momentum=0.1, affine=True, track_running_stats=True)\n",
       "           (3): ReLU()\n",
       "         )\n",
       "       )\n",
       "       (3): MaxPool2d(kernel_size=3, stride=2, padding=1, dilation=1, ceil_mode=False)\n",
       "       (4): InceptionBlock(\n",
       "         (conv1x1): Sequential(\n",
       "           (0): Conv2d(128, 32, kernel_size=(1, 1), stride=(1, 1))\n",
       "           (1): BatchNorm2d(32, eps=1e-05, momentum=0.1, affine=True, track_running_stats=True)\n",
       "           (2): ReLU()\n",
       "         )\n",
       "         (conv3x3): Sequential(\n",
       "           (0): Conv2d(128, 48, kernel_size=(1, 1), stride=(1, 1))\n",
       "           (1): BatchNorm2d(48, eps=1e-05, momentum=0.1, affine=True, track_running_stats=True)\n",
       "           (2): ReLU()\n",
       "           (3): Conv2d(48, 64, kernel_size=(3, 3), stride=(1, 1), padding=(1, 1))\n",
       "           (4): BatchNorm2d(64, eps=1e-05, momentum=0.1, affine=True, track_running_stats=True)\n",
       "           (5): ReLU()\n",
       "         )\n",
       "         (conv5x5): Sequential(\n",
       "           (0): Conv2d(128, 16, kernel_size=(1, 1), stride=(1, 1))\n",
       "           (1): BatchNorm2d(16, eps=1e-05, momentum=0.1, affine=True, track_running_stats=True)\n",
       "           (2): ReLU()\n",
       "           (3): Conv2d(16, 16, kernel_size=(5, 5), stride=(1, 1), padding=(2, 2))\n",
       "           (4): BatchNorm2d(16, eps=1e-05, momentum=0.1, affine=True, track_running_stats=True)\n",
       "           (5): ReLU()\n",
       "         )\n",
       "         (max_pool): Sequential(\n",
       "           (0): MaxPool2d(kernel_size=3, stride=1, padding=1, dilation=1, ceil_mode=False)\n",
       "           (1): Conv2d(128, 16, kernel_size=(1, 1), stride=(1, 1))\n",
       "           (2): BatchNorm2d(16, eps=1e-05, momentum=0.1, affine=True, track_running_stats=True)\n",
       "           (3): ReLU()\n",
       "         )\n",
       "       )\n",
       "     )\n",
       "     (output_net): Sequential(\n",
       "       (0): AdaptiveAvgPool2d(output_size=1)\n",
       "       (1): Flatten(start_dim=1, end_dim=-1)\n",
       "       (2): Linear(in_features=128, out_features=10, bias=True)\n",
       "     )\n",
       "   )\n",
       "   (loss_fn): CrossEntropyLoss()\n",
       " ),\n",
       " {'test': 0.48233696818351746, 'val': 0.4993489682674408})"
      ]
     },
     "execution_count": 30,
     "metadata": {},
     "output_type": "execute_result"
    }
   ],
   "source": [
    "train_model(max_epochs=4)"
   ]
  },
  {
   "cell_type": "code",
   "execution_count": 32,
   "metadata": {},
   "outputs": [
    {
     "name": "stdout",
     "output_type": "stream",
     "text": [
      "The tensorboard extension is already loaded. To reload it, use:\n",
      "  %reload_ext tensorboard\n"
     ]
    }
   ],
   "source": [
    "%load_ext tensorboard"
   ]
  },
  {
   "cell_type": "code",
   "execution_count": 31,
   "metadata": {},
   "outputs": [
    {
     "data": {
      "text/plain": [
       "Reusing TensorBoard on port 6006 (pid 2656), started 0:26:57 ago. (Use '!kill 2656' to kill it.)"
      ]
     },
     "metadata": {},
     "output_type": "display_data"
    },
    {
     "data": {
      "text/html": [
       "\n",
       "      <iframe id=\"tensorboard-frame-3eb13b9046685257\" width=\"100%\" height=\"800\" frameborder=\"0\">\n",
       "      </iframe>\n",
       "      <script>\n",
       "        (function() {\n",
       "          const frame = document.getElementById(\"tensorboard-frame-3eb13b9046685257\");\n",
       "          const url = new URL(\"http://localhost\");\n",
       "          const port = 6006;\n",
       "          if (port) {\n",
       "            url.port = port;\n",
       "          }\n",
       "          frame.src = url;\n",
       "        })();\n",
       "      </script>\n",
       "    "
      ],
      "text/plain": [
       "<IPython.core.display.HTML object>"
      ]
     },
     "metadata": {},
     "output_type": "display_data"
    }
   ],
   "source": [
    "%tensorboard --logdir ../checkpoints/SimpleGoogle"
   ]
  },
  {
   "cell_type": "code",
   "execution_count": null,
   "metadata": {},
   "outputs": [],
   "source": []
  },
  {
   "cell_type": "code",
   "execution_count": null,
   "metadata": {},
   "outputs": [],
   "source": []
  }
 ],
 "metadata": {
  "kernelspec": {
   "display_name": "uva_dl1",
   "language": "python",
   "name": "python3"
  },
  "language_info": {
   "codemirror_mode": {
    "name": "ipython",
    "version": 3
   },
   "file_extension": ".py",
   "mimetype": "text/x-python",
   "name": "python",
   "nbconvert_exporter": "python",
   "pygments_lexer": "ipython3",
   "version": "3.11.9"
  }
 },
 "nbformat": 4,
 "nbformat_minor": 2
}

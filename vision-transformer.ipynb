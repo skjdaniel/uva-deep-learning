{
 "cells": [
  {
   "cell_type": "markdown",
   "metadata": {},
   "source": [
    "# Vision transformer"
   ]
  },
  {
   "cell_type": "markdown",
   "metadata": {},
   "source": [
    "Vision transformer for CIFAR10.\n",
    "\n",
    "- Imports, including `torch` and `pytorch_lightning`.\n",
    "- Calculate means and stdevs for data normalization.\n",
    "- Train, val, and test datasets and dataloaders.\n",
    "- Function to patchify input images and return the flattened patches. (Using `einops rearrange` really helps here.)\n",
    "- Standard `MultiHeadAttention` class.\n",
    "- `EncoderBlock` class using 'pre'-layer norm. The FFN uses GELU activation.\n",
    "-  `VisionTransformer` class. An input tensor size `(128, 3, 32, 32)` is patchified (with a patch size of 4) and flattened to `(128, 64, 48)`. This is put through a linear embedding layer. If the out-size of the embedding layer is `d_model = 256`, then the output is size `(128, 64, 256)`. After adding a classification token to the input, the size is `(128, 65, 256)`. Learnable positional encodings (size `(1, 65, 256)`) are added next. The whole thing goes through the encoder blocks, and the feature vector of the classification token goes through a linear classificiation head for classification.\n",
    "- `ViT` Lightning module.\n",
    "- Function to train and evaluate model.\n",
    "- Train model (very briefly) and evaluate model."
   ]
  },
  {
   "cell_type": "markdown",
   "metadata": {},
   "source": [
    "### Imports"
   ]
  },
  {
   "cell_type": "code",
   "execution_count": 26,
   "metadata": {},
   "outputs": [
    {
     "name": "stderr",
     "output_type": "stream",
     "text": [
      "Seed set to 42\n"
     ]
    }
   ],
   "source": [
    "import os\n",
    "\n",
    "import numpy as np\n",
    "\n",
    "import torch\n",
    "import torch.nn as nn\n",
    "import torch.nn.functional as F\n",
    "import torchvision\n",
    "\n",
    "from torch.utils.data import DataLoader\n",
    "from torchvision import transforms\n",
    "from torchvision.datasets import CIFAR10\n",
    "\n",
    "from einops import rearrange\n",
    "\n",
    "import pytorch_lightning as pl\n",
    "from pytorch_lightning import Trainer\n",
    "from pytorch_lightning.callbacks import ModelCheckpoint\n",
    "\n",
    "import warnings\n",
    "warnings.filterwarnings(\"ignore\", \".*Consider increasing the value of the `num_workers` argument*\")\n",
    "\n",
    "pl.seed_everything(42)\n",
    "\n",
    "from IPython.display import Image\n",
    "\n",
    "DATASET_PATH = 'data'\n",
    "CHECKPOINT_PATH = 'checkpoints'"
   ]
  },
  {
   "cell_type": "markdown",
   "metadata": {},
   "source": [
    "### Means and stdevs for normalization"
   ]
  },
  {
   "cell_type": "code",
   "execution_count": 27,
   "metadata": {},
   "outputs": [
    {
     "name": "stdout",
     "output_type": "stream",
     "text": [
      "Files already downloaded and verified\n",
      "Means [0.49139968 0.48215841 0.44653091]\n",
      "Stdevs [0.24703223 0.24348513 0.26158784]\n"
     ]
    }
   ],
   "source": [
    "train_data = CIFAR10(root=DATASET_PATH, train=True, download=True)\n",
    "DATA_MEANS = (train_data.data / 255.0).mean(axis=(0,1,2))\n",
    "DATA_STDS = (train_data.data / 255.0).std(axis=(0,1,2))\n",
    "print(\"Means\", DATA_MEANS)\n",
    "print(\"Stdevs\", DATA_STDS)"
   ]
  },
  {
   "cell_type": "markdown",
   "metadata": {},
   "source": [
    "### Datasets and dataloaders"
   ]
  },
  {
   "cell_type": "code",
   "execution_count": 28,
   "metadata": {},
   "outputs": [
    {
     "name": "stdout",
     "output_type": "stream",
     "text": [
      "Files already downloaded and verified\n",
      "Files already downloaded and verified\n",
      "Files already downloaded and verified\n"
     ]
    }
   ],
   "source": [
    "train_transform = transforms.Compose([\n",
    "    transforms.RandomHorizontalFlip(),\n",
    "    transforms.RandomResizedCrop(32, scale=(0.8,1.0), ratio=(0.9,1.1)),\n",
    "    transforms.ToTensor(),\n",
    "    transforms.Normalize(DATA_MEANS, DATA_STDS) \n",
    "])\n",
    "\n",
    "test_transform = transforms.Compose([\n",
    "    transforms.ToTensor(),\n",
    "    transforms.Normalize(DATA_MEANS, DATA_STDS) \n",
    "])\n",
    "\n",
    "train_dataset = CIFAR10(DATASET_PATH, train=True, transform=train_transform, download=True)\n",
    "val_dataset = CIFAR10(DATASET_PATH, train=True, transform=test_transform, download=True)\n",
    "\n",
    "train_ds, _ = torch.utils.data.random_split(train_dataset, [45000, 5000])\n",
    "_, val_ds = torch.utils.data.random_split(val_dataset, [45000, 5000])\n",
    "\n",
    "test_ds = CIFAR10(DATASET_PATH, train=False, transform=test_transform, download=True)\n",
    "\n",
    "train_loader = DataLoader(train_ds, batch_size=128, shuffle=True)\n",
    "val_loader = DataLoader(val_ds, batch_size=128, shuffle=False)\n",
    "test_loader = DataLoader(test_ds, batch_size=128, shuffle=False)"
   ]
  },
  {
   "cell_type": "markdown",
   "metadata": {},
   "source": [
    "### Function to patchify images and flatten the patches"
   ]
  },
  {
   "cell_type": "code",
   "execution_count": 29,
   "metadata": {},
   "outputs": [],
   "source": [
    "def ims_to_flattened_patches(imgs, patch_size=4):\n",
    "    flattened_patches = rearrange(imgs, \n",
    "                'b c (h p1) (w p2) -> b (h w) (c p1 p2)', \n",
    "                p1=patch_size, p2=patch_size)\n",
    "    return flattened_patches"
   ]
  },
  {
   "cell_type": "markdown",
   "metadata": {},
   "source": [
    "### Multi-head attention"
   ]
  },
  {
   "cell_type": "code",
   "execution_count": 30,
   "metadata": {},
   "outputs": [],
   "source": [
    "class MultiHeadAttention(nn.Module):\n",
    "\n",
    "    def __init__(self, n_head, d_model, d_k, d_v):\n",
    "        super().__init__()\n",
    "        self.n_head = n_head\n",
    "        self.d_k = d_k\n",
    "\n",
    "        self.wq = nn.Linear(d_model, n_head * d_k)\n",
    "        self.wk = nn.Linear(d_model, n_head * d_k)\n",
    "        self.wv = nn.Linear(d_model, n_head * d_v)\n",
    "\n",
    "        self.linear = nn.Linear(n_head * d_v, d_model)  \n",
    "\n",
    "    def forward(self, q, k, v, mask=None):\n",
    "        q = rearrange(self.wq(q), 'b t (h k) -> b h t k', h=self.n_head)    \n",
    "        k = rearrange(self.wk(k), 'b s (h k) -> b h s k', h=self.n_head)\n",
    "        v = rearrange(self.wv(v), 'b s (h v) -> b h s v', h=self.n_head)\n",
    "        attn = torch.einsum('bhtk, bhsk -> bhts', q, k) / np.sqrt(self.d_k)\n",
    "        if mask is not None:\n",
    "            attn = attn.masked_fill(mask==0, -np.inf)\n",
    "        attn = F.softmax(attn, dim=3)\n",
    "        out = torch.einsum('bhts, bhsv -> bhtv', attn, v)\n",
    "        out = rearrange(out, 'b h t v -> b t (h v)')\n",
    "        out = self.linear(out)\n",
    "        return out, attn"
   ]
  },
  {
   "cell_type": "markdown",
   "metadata": {},
   "source": [
    "### Encoder block\n",
    "\n",
    "Use Pre-LN version with GELU."
   ]
  },
  {
   "cell_type": "code",
   "execution_count": 31,
   "metadata": {},
   "outputs": [
    {
     "data": {
      "image/png": "[encoded data removed]",
      "text/plain": [
       "<IPython.core.display.Image object>"
      ]
     },
     "execution_count": 31,
     "metadata": {},
     "output_type": "execute_result"
    }
   ],
   "source": [
    "Image('images/pre-ln-transformer.png')"
   ]
  },
  {
   "cell_type": "code",
   "execution_count": 32,
   "metadata": {},
   "outputs": [],
   "source": [
    "class EncoderBlock(nn.Module):\n",
    "\n",
    "    def __init__(self, n_head, d_model, d_k, d_v, d_ff, dropout_prob=0.0):\n",
    "        super().__init__()\n",
    "        self.attn = MultiHeadAttention(n_head, d_model, d_k, d_v)\n",
    "        self.ln1 = nn.LayerNorm(d_model)\n",
    "        self.ln2 = nn.LayerNorm(d_model)\n",
    "        self.mlp = nn.Sequential(\n",
    "            nn.Linear(d_model, d_ff),\n",
    "            nn.GELU(),\n",
    "            nn.Dropout(dropout_prob),\n",
    "            nn.Linear(d_ff, d_model),\n",
    "            nn.Dropout(dropout_prob)\n",
    "        )\n",
    "\n",
    "    def forward(self, x, mask=None):\n",
    "        attn_in = self.ln1(x)\n",
    "        x = x + self.attn(attn_in, attn_in, attn_in, mask)[0]\n",
    "        x = x + self.mlp(self.ln2(x))\n",
    "        return x"
   ]
  },
  {
   "cell_type": "markdown",
   "metadata": {},
   "source": [
    "### Vision transformer"
   ]
  },
  {
   "cell_type": "code",
   "execution_count": 33,
   "metadata": {},
   "outputs": [],
   "source": [
    "class VisionTransformer(nn.Module):\n",
    "\n",
    "    def __init__(self, n_head, d_model, d_k, d_v, d_ff, \n",
    "            n_enc_blocks, n_classes, n_patches, patch_size,  \n",
    "            dropout_prob=0.0):\n",
    "        super().__init__()\n",
    "        self.patch_size = patch_size\n",
    "        self.patch_embed = nn.Linear(3 * patch_size ** 2, d_model)\n",
    "        self.cls_token = nn.Parameter(torch.randn(1, 1, d_model))\n",
    "        self.pos_embed = nn.Parameter(torch.randn(1, n_patches + 1, d_model))\n",
    "        self.dropout = nn.Dropout(dropout_prob)\n",
    "        self.encoder = nn.Sequential(*[EncoderBlock(\n",
    "            n_head, d_model, d_k, d_v, d_ff, dropout_prob) \n",
    "            for _ in range(n_enc_blocks)])\n",
    "        self.classification_head = nn.Linear(d_model, n_classes)\n",
    "    \n",
    "    def forward(self, x):\n",
    "        x = ims_to_flattened_patches(x, patch_size=self.patch_size)\n",
    "        b, t, _ = x.shape\n",
    "        x = self.patch_embed(x)\n",
    "        cls_tokens = self.cls_token.repeat(b, 1, 1)\n",
    "        x = torch.cat((cls_tokens, x), dim=1)\n",
    "        x += self.pos_embed\n",
    "        x = self.dropout(x)\n",
    "        x = self.encoder(x)\n",
    "        cls = x[:, 0, :]\n",
    "        out = self.classification_head(cls)\n",
    "        return out "
   ]
  },
  {
   "cell_type": "markdown",
   "metadata": {},
   "source": [
    "### Lightning module"
   ]
  },
  {
   "cell_type": "code",
   "execution_count": 34,
   "metadata": {},
   "outputs": [],
   "source": [
    "class ViT(pl.LightningModule):\n",
    "\n",
    "    def __init__(self, model_kwargs, lr=1e-4):\n",
    "        super().__init__()\n",
    "        self.save_hyperparameters()\n",
    "        self.model = VisionTransformer(**model_kwargs)\n",
    "\n",
    "    def forward(self, x):\n",
    "        return self.model(x)\n",
    "\n",
    "    def configure_optimizers(self):\n",
    "        optimizer = torch.optim.AdamW(\n",
    "            self.model.parameters(), lr=self.hparams.lr\n",
    "            )\n",
    "        return optimizer\n",
    "    \n",
    "    def _calculate_loss(self, batch, mode='train'):\n",
    "        imgs, labels = batch\n",
    "        preds = self(imgs)\n",
    "        loss = F.cross_entropy(preds, labels)\n",
    "        acc = (preds.argmax(dim=1) == labels).float().mean()\n",
    "\n",
    "        self.log(f'{mode}_loss', loss)\n",
    "        self.log(f'{mode}_acc', acc)\n",
    "        return loss\n",
    "\n",
    "    def training_step(self, batch, batch_idx):\n",
    "        loss = self._calculate_loss(batch, 'train')\n",
    "        return loss\n",
    "\n",
    "    def validation_step(self, batch, batch_idx):\n",
    "        self._calculate_loss(batch, 'val')\n",
    "\n",
    "    def test_step(self, batch, batch_idx):\n",
    "        self._calculate_loss(batch, 'test')"
   ]
  },
  {
   "cell_type": "markdown",
   "metadata": {},
   "source": [
    "### Function to train and evaluate vision transformer"
   ]
  },
  {
   "cell_type": "code",
   "execution_count": 35,
   "metadata": {},
   "outputs": [],
   "source": [
    "def train_vit(**kwargs):\n",
    "    trainer = Trainer(\n",
    "        default_root_dir=os.path.join(CHECKPOINT_PATH, 'ViT'),\n",
    "        accelerator='cpu',\n",
    "        max_epochs=4,\n",
    "        callbacks=[ModelCheckpoint(save_weights_only=True, monitor='val_acc', mode='max')],\n",
    "        enable_progress_bar=True,\n",
    "        limit_train_batches=0.2,\n",
    "        limit_val_batches=0.2,\n",
    "        limit_test_batches=0.3\n",
    "    )\n",
    "    trainer.logger._default_hp_metric = None\n",
    "    pl.seed_everything(42)\n",
    "\n",
    "    model = ViT(**kwargs)    \n",
    "    trainer.fit(model, train_loader, val_loader)\n",
    "    model = ViT.load_from_checkpoint(trainer.checkpoint_callback.best_model_path)\n",
    "\n",
    "    val_result = trainer.test(model, val_loader, verbose=False)\n",
    "    test_result = trainer.test(model, test_loader, verbose=False)\n",
    "    result = {\"test\": test_result[0][\"test_acc\"], \"val\": val_result[0][\"test_acc\"]}\n",
    "\n",
    "    return model, result"
   ]
  },
  {
   "cell_type": "markdown",
   "metadata": {},
   "source": [
    "### Train and evaluate model"
   ]
  },
  {
   "cell_type": "code",
   "execution_count": 36,
   "metadata": {},
   "outputs": [
    {
     "name": "stderr",
     "output_type": "stream",
     "text": [
      "GPU available: False, used: False\n",
      "TPU available: False, using: 0 TPU cores\n",
      "HPU available: False, using: 0 HPUs\n",
      "Seed set to 42\n",
      "\n",
      "  | Name  | Type              | Params | Mode \n",
      "----------------------------------------------------\n",
      "0 | model | VisionTransformer | 414 K  | train\n",
      "----------------------------------------------------\n",
      "414 K     Trainable params\n",
      "0         Non-trainable params\n",
      "414 K     Total params\n",
      "1.656     Total estimated model params size (MB)\n",
      "61        Modules in train mode\n",
      "0         Modules in eval mode\n"
     ]
    },
    {
     "name": "stdout",
     "output_type": "stream",
     "text": [
      "Epoch 3: 100%|██████████| 70/70 [00:33<00:00,  2.12it/s, v_num=2]          "
     ]
    },
    {
     "name": "stderr",
     "output_type": "stream",
     "text": [
      "`Trainer.fit` stopped: `max_epochs=4` reached.\n"
     ]
    },
    {
     "name": "stdout",
     "output_type": "stream",
     "text": [
      "Epoch 3: 100%|██████████| 70/70 [00:33<00:00,  2.12it/s, v_num=2]\n",
      "Testing DataLoader 0: 100%|██████████| 12/12 [00:02<00:00,  5.99it/s]\n",
      "Testing DataLoader 0: 100%|██████████| 23/23 [00:03<00:00,  6.17it/s]\n"
     ]
    }
   ],
   "source": [
    "# model, result = train_vit(model_kwargs = {\n",
    "#     'n_head': 8,\n",
    "#     'd_model': 256,\n",
    "#     'd_k': 32,\n",
    "#     'd_v': 32,\n",
    "#     'd_ff': 512,\n",
    "#     'n_enc_blocks': 6,\n",
    "#     'n_classes': 10,\n",
    "#     'n_patches': 64,\n",
    "#     'patch_size': 4,\n",
    "#     'dropout_prob': 0.1\n",
    "# }, \n",
    "# lr=1e-4)\n",
    "\n",
    "model, result = train_vit(model_kwargs = {\n",
    "    'n_head': 4,\n",
    "    'd_model': 128,\n",
    "    'd_k': 16,\n",
    "    'd_v': 16,\n",
    "    'd_ff': 256,\n",
    "    'n_enc_blocks': 4,\n",
    "    'n_classes': 10,\n",
    "    'n_patches': 64,\n",
    "    'patch_size': 4,\n",
    "    'dropout_prob': 0.1\n",
    "}, \n",
    "lr=1e-4)"
   ]
  },
  {
   "cell_type": "code",
   "execution_count": 37,
   "metadata": {},
   "outputs": [
    {
     "name": "stdout",
     "output_type": "stream",
     "text": [
      "Val accuracy:  32.42%\n",
      "Test accuracy: 32.88%\n"
     ]
    }
   ],
   "source": [
    "print(f\"Val accuracy:  {(100.0 * result['val']):4.2f}%\")\n",
    "print(f\"Test accuracy: {(100.0 * result['test']):4.2f}%\")"
   ]
  },
  {
   "cell_type": "code",
   "execution_count": 38,
   "metadata": {},
   "outputs": [
    {
     "name": "stdout",
     "output_type": "stream",
     "text": [
      "The model has 414,090 trainable parameters\n"
     ]
    }
   ],
   "source": [
    "def count_parameters(model):\n",
    "    return sum(p.numel() for p in model.parameters() if p.requires_grad)\n",
    "\n",
    "print(f'The model has {count_parameters(model):,} trainable parameters')"
   ]
  }
 ],
 "metadata": {
  "kernelspec": {
   "display_name": "uva_dl1",
   "language": "python",
   "name": "python3"
  },
  "language_info": {
   "codemirror_mode": {
    "name": "ipython",
    "version": 3
   },
   "file_extension": ".py",
   "mimetype": "text/x-python",
   "name": "python",
   "nbconvert_exporter": "python",
   "pygments_lexer": "ipython3",
   "version": "3.11.9"
  }
 },
 "nbformat": 4,
 "nbformat_minor": 2
}

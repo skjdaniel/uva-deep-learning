{
 "cells": [
  {
   "cell_type": "markdown",
   "metadata": {},
   "source": [
    "# Transformer for reversing sequences"
   ]
  },
  {
   "cell_type": "markdown",
   "metadata": {},
   "source": [
    "Transformer with absolute positional encoding to reverse sequences of length 32 consisting of integers from 0 to 9.\n",
    "\n",
    "- Imports, including `torch` and `pytorch_lightning`.\n",
    "- `MultiHeadAttention` class using `einsum` and `einops`.\n",
    "- `EncoderBlock` class.\n",
    "- `PositionalEncoding` class.\n",
    "- `TransformerEncoder` class with initial embedding, encoder blocks, and output layer.\n",
    "- `TransformerPredictor` Lightning module.\n",
    "- Create datasets and dataloaders.\n",
    "- Function to train and evaluate model.\n",
    "- Train and evaluate model (we can get 100% accuracy pretty easily here).\n",
    "- Display attention maps for each layer (encoder block) and head.\n",
    "- Print out model structure and the number of trainable parameters.\n",
    "\n",
    "I didn't use a learning rate scheduler for this exercise."
   ]
  },
  {
   "cell_type": "markdown",
   "metadata": {},
   "source": [
    "### Imports"
   ]
  },
  {
   "cell_type": "code",
   "execution_count": 1,
   "metadata": {},
   "outputs": [
    {
     "name": "stderr",
     "output_type": "stream",
     "text": [
      "Seed set to 42\n"
     ]
    }
   ],
   "source": [
    "import os\n",
    "import numpy as np\n",
    "import matplotlib.pyplot as plt\n",
    "\n",
    "import torch\n",
    "import torch.nn as nn\n",
    "import torch.nn.functional as F\n",
    "import torch.optim as optim\n",
    "from torch.utils.data import DataLoader, Dataset\n",
    "\n",
    "from einops import rearrange\n",
    "\n",
    "import pytorch_lightning as pl\n",
    "from pytorch_lightning import Trainer\n",
    "from pytorch_lightning.callbacks import ModelCheckpoint\n",
    "\n",
    "import warnings\n",
    "warnings.filterwarnings(\"ignore\", \".*Consider increasing the value of the `num_workers` argument*\")\n",
    "\n",
    "pl.seed_everything(42)\n",
    "\n",
    "CHECKPOINT_PATH = 'checkpoints'"
   ]
  },
  {
   "cell_type": "markdown",
   "metadata": {},
   "source": [
    "### Multi-head attention"
   ]
  },
  {
   "cell_type": "code",
   "execution_count": 2,
   "metadata": {},
   "outputs": [],
   "source": [
    "class MultiHeadAttention(nn.Module):\n",
    "\n",
    "    def __init__(self, n_head, d_model, d_k, d_v):\n",
    "        super().__init__()\n",
    "        self.n_head = n_head\n",
    "        self.d_k = d_k\n",
    "\n",
    "        self.wq = nn.Linear(d_model, n_head * d_k)\n",
    "        self.wk = nn.Linear(d_model, n_head * d_k)\n",
    "        self.wv = nn.Linear(d_model, n_head * d_v)\n",
    "\n",
    "        self.linear = nn.Linear(n_head * d_v, d_model)  \n",
    "\n",
    "    def forward(self, q, k, v, mask=None):\n",
    "        q = rearrange(self.wq(q), 'b t (h k) -> b h t k', h=self.n_head)    \n",
    "        k = rearrange(self.wk(k), 'b s (h k) -> b h s k', h=self.n_head)\n",
    "        v = rearrange(self.wv(v), 'b s (h v) -> b h s v', h=self.n_head)\n",
    "        attn = torch.einsum('bhtk, bhsk -> bhts', q, k) / np.sqrt(self.d_k)\n",
    "        if mask is not None:\n",
    "            attn = attn.masked_fill(mask==0, -np.inf)\n",
    "        attn = F.softmax(attn, dim=3)\n",
    "        out = torch.einsum('bhts, bhsv -> bhtv', attn, v)\n",
    "        out = rearrange(out, 'b h t v -> b t (h v)')\n",
    "        out = self.linear(out)\n",
    "        return out, attn"
   ]
  },
  {
   "cell_type": "markdown",
   "metadata": {},
   "source": [
    "### Encoder block"
   ]
  },
  {
   "cell_type": "code",
   "execution_count": 3,
   "metadata": {},
   "outputs": [],
   "source": [
    "class EncoderBlock(nn.Module):\n",
    "\n",
    "    def __init__(self, n_head, d_model, d_k, d_v, d_ff, dropout_prob=0.0):\n",
    "        super().__init__()\n",
    "        self.attn = MultiHeadAttention(n_head, d_model, d_k, d_v)\n",
    "        self.ln1 = nn.LayerNorm(d_model)\n",
    "        self.ln2 = nn.LayerNorm(d_model)\n",
    "        self.dropout = nn.Dropout(dropout_prob)\n",
    "        self.mlp = nn.Sequential(\n",
    "            nn.Linear(d_model, d_ff),\n",
    "            nn.Dropout(dropout_prob),\n",
    "            nn.ReLU(),\n",
    "            nn.Linear(d_ff, d_model)\n",
    "        )\n",
    "\n",
    "    def forward(self, x, mask=None):\n",
    "        attn_out, attn_map = self.attn(x, x, x, mask)\n",
    "        x = self.ln1(x + self.dropout(attn_out))\n",
    "\n",
    "        mlp_out = self.mlp(x)\n",
    "        x = self.ln2(x + self.dropout(mlp_out))\n",
    "\n",
    "        return x\n"
   ]
  },
  {
   "cell_type": "markdown",
   "metadata": {},
   "source": [
    "### Positional encoding"
   ]
  },
  {
   "cell_type": "code",
   "execution_count": 4,
   "metadata": {},
   "outputs": [],
   "source": [
    "class PositionalEncoding(nn.Module):\n",
    "\n",
    "    def __init__(self, d_model, max_len=5000):\n",
    "        super().__init__()\n",
    "\n",
    "        pe = torch.zeros(max_len, d_model)\n",
    "        position = rearrange(torch.arange(0, max_len, dtype=torch.float), 'i -> i 1')\n",
    "        div_term = torch.exp(torch.arange(0, d_model, 2).float() * (-np.log(10000.0) / d_model))\n",
    "        pe[:, 0::2] = torch.sin(position * div_term)\n",
    "        pe[:, 1::2] = torch.cos(position * div_term)\n",
    "        pe = rearrange(pe, 'max_len d_model -> 1 max_len d_model')\n",
    "        self.register_buffer('pe', pe, persistent=False)\n",
    "\n",
    "    def forward(self, x):\n",
    "        return x + self.pe[:, :x.size(1), :]"
   ]
  },
  {
   "cell_type": "markdown",
   "metadata": {},
   "source": [
    "### Transformer encoder"
   ]
  },
  {
   "cell_type": "code",
   "execution_count": 5,
   "metadata": {},
   "outputs": [],
   "source": [
    "class TransformerEncoder(nn.Module):\n",
    "\n",
    "    def __init__(self, vocab_size, d_model, n_head, \n",
    "                    d_k, d_v, d_ff, n_blocks, dropout_prob=0.):\n",
    "        super().__init__()\n",
    "        self.embedding = nn.Embedding(vocab_size, d_model)\n",
    "        self.pe = PositionalEncoding(d_model)\n",
    "        self.enc_blocks = nn.ModuleList(\n",
    "            [EncoderBlock(n_head, d_model, d_k, d_v, d_ff, dropout_prob=0.0) \\\n",
    "                for _ in range(n_blocks)]\n",
    "            )\n",
    "        self.output_layer = nn.Linear(d_model, vocab_size)\n",
    "    \n",
    "    def forward(self, x, mask=None):\n",
    "        x = self.embedding(x)\n",
    "        x = self.pe(x)\n",
    "        for block in self.enc_blocks:\n",
    "            x = block(x, mask)\n",
    "        x = self.output_layer(x)\n",
    "        return x\n",
    "\n",
    "    def get_attn_maps(self, x, mask=None):\n",
    "        x = self.embedding(x)\n",
    "        x = self.pe(x)\n",
    "        attn_maps = []\n",
    "        for block in self.enc_blocks:\n",
    "            _, attn_map = block.attn(x, x, x, mask)\n",
    "            attn_maps.append(attn_map)\n",
    "            x = block(x, mask)\n",
    "        return attn_maps"
   ]
  },
  {
   "cell_type": "markdown",
   "metadata": {},
   "source": [
    "### Lightning module"
   ]
  },
  {
   "cell_type": "code",
   "execution_count": 6,
   "metadata": {},
   "outputs": [],
   "source": [
    "class TransformerPredictor(pl.LightningModule):\n",
    "\n",
    "    def __init__(self, vocab_size, d_model, d_k, d_v, \n",
    "                n_head, n_blocks, dropout_prob=0.1, lr=5e-4):\n",
    "        super().__init__()\n",
    "        self.save_hyperparameters()\n",
    "        self.transformer = TransformerEncoder(\n",
    "            vocab_size=vocab_size, d_model=d_model, d_k=d_k, d_v=d_v,\n",
    "            n_head=n_head, n_blocks=n_blocks, d_ff=4*d_model,\n",
    "            dropout_prob=dropout_prob\n",
    "        )\n",
    "\n",
    "    def forward(self, x, mask=None):\n",
    "        return self.transformer(x, mask)\n",
    "    \n",
    "    @torch.no_grad()\n",
    "    def get_attn_maps(self, x, mask=None):\n",
    "        return self.transformer.get_attn_maps(x, mask)\n",
    "\n",
    "    def configure_optimizers(self):\n",
    "        return optim.Adam(self.parameters(), \n",
    "                        lr=self.hparams.lr)\n",
    "\n",
    "    def training_step(self, batch, batch_idx):\n",
    "        seqs, reversed_seqs = batch\n",
    "        preds = self.forward(seqs)\n",
    "        preds = rearrange(preds, 'b t c -> (b t) c')\n",
    "        reversed_seqs = rearrange(reversed_seqs, 'b t -> (b t)')\n",
    "        loss = F.cross_entropy(preds, reversed_seqs)\n",
    "        acc = (preds.argmax(dim=1) == reversed_seqs).float().mean()\n",
    "        self.log('train_loss', loss)    \n",
    "        self.log('train_acc', acc)\n",
    "        return loss\n",
    "    \n",
    "    def validation_step(self, batch, batch_idx):\n",
    "        seqs, reversed_seqs = batch\n",
    "        preds = self.forward(seqs)\n",
    "        preds = rearrange(preds, 'b t c -> (b t) c')\n",
    "        reversed_seqs = rearrange(reversed_seqs, 'b t -> (b t)')\n",
    "        acc = (preds.argmax(dim=1) == reversed_seqs).float().mean()  \n",
    "        self.log('val_acc', acc)\n",
    "\n",
    "    def test_step(self, batch, batch_idx):\n",
    "        seqs, reversed_seqs = batch\n",
    "        preds = self.forward(seqs)\n",
    "        preds = rearrange(preds, 'b t c -> (b t) c')\n",
    "        reversed_seqs = rearrange(reversed_seqs, 'b t -> (b t)')\n",
    "        acc = (preds.argmax(dim=1) == reversed_seqs).float().mean()  \n",
    "        self.log('test_acc', acc)    "
   ]
  },
  {
   "cell_type": "markdown",
   "metadata": {},
   "source": [
    "### Dataset and dataloaders"
   ]
  },
  {
   "cell_type": "code",
   "execution_count": 7,
   "metadata": {},
   "outputs": [],
   "source": [
    "class ReverseDataset(Dataset):\n",
    "\n",
    "    def __init__(self, n_samples, seq_len, vocab_size):\n",
    "        self.data = torch.randint(0, vocab_size, (n_samples, seq_len))\n",
    "\n",
    "    def __len__(self):\n",
    "        return len(self.data)\n",
    "\n",
    "    def __getitem__(self, idx):\n",
    "        return self.data[idx], self.data[idx].flip(0)"
   ]
  },
  {
   "cell_type": "code",
   "execution_count": 8,
   "metadata": {},
   "outputs": [],
   "source": [
    "train_loader = DataLoader(ReverseDataset(\n",
    "    n_samples=10000, seq_len=32, vocab_size=10),\n",
    "    batch_size=128, shuffle=True)\n",
    "val_loader = DataLoader(ReverseDataset(\n",
    "    n_samples=1000, seq_len=32, vocab_size=10),\n",
    "    batch_size=128)\n",
    "test_loader = DataLoader(ReverseDataset(\n",
    "    n_samples=1000, seq_len=32, vocab_size=10),\n",
    "    batch_size=128)"
   ]
  },
  {
   "cell_type": "markdown",
   "metadata": {},
   "source": [
    "### Function to train and evaluate transformer"
   ]
  },
  {
   "cell_type": "code",
   "execution_count": 9,
   "metadata": {},
   "outputs": [],
   "source": [
    "def train_reverse(max_epochs=10):\n",
    "    \n",
    "    trainer = Trainer(\n",
    "        default_root_dir=os.path.join(CHECKPOINT_PATH, 'ReverseTransformer'),\n",
    "        accelerator='cpu',\n",
    "        max_epochs=max_epochs,\n",
    "        callbacks=[ModelCheckpoint(save_weights_only=True, monitor='val_acc', mode='max')],\n",
    "        enable_progress_bar=True\n",
    "    )\n",
    "    trainer.logger._default_hp_metric = None\n",
    "        \n",
    "    model = TransformerPredictor(vocab_size=10, d_model=32, \n",
    "            d_k=8, d_v=8, n_head=2, n_blocks=2, dropout_prob=0.5)\n",
    "    trainer.fit(model, train_loader, val_loader)\n",
    "    model = TransformerPredictor.load_from_checkpoint(trainer.checkpoint_callback.best_model_path)\n",
    "\n",
    "    val_result = trainer.test(model, val_loader, verbose=False)\n",
    "    test_result = trainer.test(model, test_loader, verbose=False)\n",
    "    result = {\"test\": test_result[0][\"test_acc\"], \"val\": val_result[0][\"test_acc\"]}\n",
    "\n",
    "    return model, result"
   ]
  },
  {
   "cell_type": "markdown",
   "metadata": {},
   "source": [
    "### Train and evaluate model"
   ]
  },
  {
   "cell_type": "code",
   "execution_count": 10,
   "metadata": {},
   "outputs": [
    {
     "name": "stderr",
     "output_type": "stream",
     "text": [
      "GPU available: False, used: False\n",
      "TPU available: False, using: 0 TPU cores\n",
      "HPU available: False, using: 0 HPUs\n",
      "\n",
      "  | Name        | Type               | Params | Mode \n",
      "-----------------------------------------------------------\n",
      "0 | transformer | TransformerEncoder | 21.9 K | train\n",
      "-----------------------------------------------------------\n",
      "21.9 K    Trainable params\n",
      "0         Non-trainable params\n",
      "21.9 K    Total params\n",
      "0.087     Total estimated model params size (MB)\n",
      "33        Modules in train mode\n",
      "0         Modules in eval mode\n"
     ]
    },
    {
     "name": "stdout",
     "output_type": "stream",
     "text": [
      "Epoch 3: 100%|██████████| 79/79 [00:03<00:00, 24.02it/s, v_num=0]          "
     ]
    },
    {
     "name": "stderr",
     "output_type": "stream",
     "text": [
      "`Trainer.fit` stopped: `max_epochs=4` reached.\n"
     ]
    },
    {
     "name": "stdout",
     "output_type": "stream",
     "text": [
      "Epoch 3: 100%|██████████| 79/79 [00:03<00:00, 23.94it/s, v_num=0]\n",
      "Testing DataLoader 0: 100%|██████████| 8/8 [00:00<00:00, 60.14it/s]\n",
      "Testing DataLoader 0: 100%|██████████| 8/8 [00:00<00:00, 52.79it/s]\n"
     ]
    }
   ],
   "source": [
    "reverse_model, reverse_result = train_reverse(max_epochs=4)"
   ]
  },
  {
   "cell_type": "code",
   "execution_count": 11,
   "metadata": {},
   "outputs": [
    {
     "name": "stdout",
     "output_type": "stream",
     "text": [
      "Val accuracy:  37.17%\n",
      "Test accuracy: 37.01%\n"
     ]
    }
   ],
   "source": [
    "print(f\"Val accuracy:  {(100.0 * reverse_result['val']):4.2f}%\")\n",
    "print(f\"Test accuracy: {(100.0 * reverse_result['test']):4.2f}%\")"
   ]
  },
  {
   "cell_type": "markdown",
   "metadata": {},
   "source": [
    "### Display attention maps"
   ]
  },
  {
   "cell_type": "code",
   "execution_count": 12,
   "metadata": {},
   "outputs": [
    {
     "name": "stdout",
     "output_type": "stream",
     "text": [
      "2\n",
      "torch.Size([128, 2, 32, 32])\n"
     ]
    }
   ],
   "source": [
    "seqs, targets = next(iter(val_loader))\n",
    "attn_maps = reverse_model.get_attn_maps(seqs)\n",
    "\n",
    "print(len(attn_maps))\n",
    "print(attn_maps[0].shape)"
   ]
  },
  {
   "cell_type": "code",
   "execution_count": 13,
   "metadata": {},
   "outputs": [],
   "source": [
    "def plot_attention_maps(input_data, attn_maps, idx=0):\n",
    "    if input_data is not None:\n",
    "        input_data = input_data[idx].detach().cpu().numpy()\n",
    "    else:\n",
    "        input_data = np.arange(attn_maps[0][idx].shape[-1])\n",
    "    attn_maps = [m[idx].detach().cpu().numpy() for m in attn_maps]\n",
    "\n",
    "    num_heads = attn_maps[0].shape[0]\n",
    "    num_layers = len(attn_maps)\n",
    "    seq_len = input_data.shape[0]\n",
    "    fig_size = 4 if num_heads == 1 else 3\n",
    "    fig, ax = plt.subplots(num_layers, num_heads, figsize=(num_heads*fig_size, num_layers*fig_size))\n",
    "    if num_layers == 1:\n",
    "        ax = [ax]\n",
    "    if num_heads == 1:\n",
    "        ax = [[a] for a in ax]\n",
    "    for row in range(num_layers):\n",
    "        for column in range(num_heads):\n",
    "            ax[row][column].imshow(attn_maps[row][column], origin='lower', vmin=0)\n",
    "            ax[row][column].set_xticks(list(range(seq_len)))\n",
    "            ax[row][column].set_xticklabels(input_data.tolist())\n",
    "            ax[row][column].set_yticks(list(range(seq_len)))\n",
    "            ax[row][column].set_yticklabels(input_data.tolist())\n",
    "            ax[row][column].set_title(f\"Layer {row+1}, Head {column+1}\")\n",
    "    fig.subplots_adjust(hspace=0.5)\n",
    "    plt.show()"
   ]
  },
  {
   "cell_type": "code",
   "execution_count": 14,
   "metadata": {},
   "outputs": [
    {
     "data": {
      "image/png": "[encoded data removed]",
      "text/plain": [
       "<Figure size 600x600 with 4 Axes>"
      ]
     },
     "metadata": {},
     "output_type": "display_data"
    }
   ],
   "source": [
    "plot_attention_maps(seqs, attn_maps, idx=0)"
   ]
  },
  {
   "cell_type": "markdown",
   "metadata": {},
   "source": [
    "### Model structure"
   ]
  },
  {
   "cell_type": "code",
   "execution_count": 15,
   "metadata": {},
   "outputs": [
    {
     "data": {
      "text/plain": [
       "TransformerPredictor(\n",
       "  (transformer): TransformerEncoder(\n",
       "    (embedding): Embedding(10, 32)\n",
       "    (pe): PositionalEncoding()\n",
       "    (enc_blocks): ModuleList(\n",
       "      (0-1): 2 x EncoderBlock(\n",
       "        (attn): MultiHeadAttention(\n",
       "          (wq): Linear(in_features=32, out_features=16, bias=True)\n",
       "          (wk): Linear(in_features=32, out_features=16, bias=True)\n",
       "          (wv): Linear(in_features=32, out_features=16, bias=True)\n",
       "          (linear): Linear(in_features=16, out_features=32, bias=True)\n",
       "        )\n",
       "        (ln1): LayerNorm((32,), eps=1e-05, elementwise_affine=True)\n",
       "        (ln2): LayerNorm((32,), eps=1e-05, elementwise_affine=True)\n",
       "        (dropout): Dropout(p=0.0, inplace=False)\n",
       "        (mlp): Sequential(\n",
       "          (0): Linear(in_features=32, out_features=128, bias=True)\n",
       "          (1): Dropout(p=0.0, inplace=False)\n",
       "          (2): ReLU()\n",
       "          (3): Linear(in_features=128, out_features=32, bias=True)\n",
       "        )\n",
       "      )\n",
       "    )\n",
       "    (output_layer): Linear(in_features=32, out_features=10, bias=True)\n",
       "  )\n",
       ")"
      ]
     },
     "execution_count": 15,
     "metadata": {},
     "output_type": "execute_result"
    }
   ],
   "source": [
    "reverse_model"
   ]
  },
  {
   "cell_type": "code",
   "execution_count": 16,
   "metadata": {},
   "outputs": [
    {
     "name": "stdout",
     "output_type": "stream",
     "text": [
      "The model has 21,866 trainable parameters\n"
     ]
    }
   ],
   "source": [
    "def count_parameters(model):\n",
    "    return sum(p.numel() for p in model.parameters() if p.requires_grad)\n",
    "\n",
    "print(f'The model has {count_parameters(reverse_model):,} trainable parameters')"
   ]
  }
 ],
 "metadata": {
  "kernelspec": {
   "display_name": "uva_dl1",
   "language": "python",
   "name": "python3"
  },
  "language_info": {
   "codemirror_mode": {
    "name": "ipython",
    "version": 3
   },
   "file_extension": ".py",
   "mimetype": "text/x-python",
   "name": "python",
   "nbconvert_exporter": "python",
   "pygments_lexer": "ipython3",
   "version": "3.11.9"
  }
 },
 "nbformat": 4,
 "nbformat_minor": 2
}
